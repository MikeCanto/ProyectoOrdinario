{
 "cells": [
  {
   "cell_type": "code",
   "execution_count": 1,
   "id": "5a155001-4f03-4aef-8e9c-3a03f409536b",
   "metadata": {},
   "outputs": [
    {
     "name": "stdout",
     "output_type": "stream",
     "text": [
      "Predicción: 0.8815003201093943\n"
     ]
    }
   ],
   "source": [
    "import numpy as np\n",
    "\n",
    "class NeuronaArtificial:\n",
    "    def __init__(self, num_entradas):\n",
    "        self.num_entradas = num_entradas\n",
    "        self.pesos = np.random.rand(num_entradas)\n",
    "        self.sesgo = np.random.rand()\n",
    "\n",
    "    def funcion_activacion(self, suma_ponderada):\n",
    "        return 1 / (1 + np.exp(-suma_ponderada))\n",
    "\n",
    "    def entrenar_neurona(self, entradas, salida_deseada, tasa_aprendizaje, num_iteraciones):\n",
    "        for _ in range(num_iteraciones):\n",
    "            for j in range(len(entradas)):\n",
    "                suma_ponderada = np.dot(entradas[j], self.pesos) + self.sesgo\n",
    "                salida_calculada = self.funcion_activacion(suma_ponderada)\n",
    "\n",
    "                error = salida_deseada[j] - salida_calculada\n",
    "                ajuste = error * salida_calculada * (1 - salida_calculada)\n",
    "\n",
    "                self.pesos += tasa_aprendizaje * ajuste * entradas[j]\n",
    "                self.sesgo += tasa_aprendizaje * ajuste\n",
    "\n",
    "    def predecir(self, entrada):\n",
    "        suma_ponderada = np.dot(entrada, self.pesos) + self.sesgo\n",
    "        print(\"Predicción:\", self.funcion_activacion(suma_ponderada))\n",
    "\n",
    "num_entradas = 2\n",
    "num_ejemplos = 4\n",
    "\n",
    "entradas = np.array([[0, 0], [0, 1], [1, 0], [1, 1]])\n",
    "salida_deseada = np.array([0, 1, 1, 1])\n",
    "\n",
    "tasa_aprendizaje = 0.1\n",
    "num_iteraciones = 1000\n",
    "\n",
    "neurona = NeuronaArtificial(num_entradas)\n",
    "neurona.entrenar_neurona(entradas, salida_deseada, tasa_aprendizaje, num_iteraciones)\n",
    "\n",
    "entrada_prueba = np.array([1, 0])\n",
    "neurona.predecir(entrada_prueba)\n"
   ]
  }
 ],
 "metadata": {
  "kernelspec": {
   "display_name": "anaconda-panel-2023.05-py310",
   "language": "python",
   "name": "conda-env-anaconda-panel-2023.05-py310-py"
  },
  "language_info": {
   "codemirror_mode": {
    "name": "ipython",
    "version": 3
   },
   "file_extension": ".py",
   "mimetype": "text/x-python",
   "name": "python",
   "nbconvert_exporter": "python",
   "pygments_lexer": "ipython3",
   "version": "3.11.5"
  }
 },
 "nbformat": 4,
 "nbformat_minor": 5
}
